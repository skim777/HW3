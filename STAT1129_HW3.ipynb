{
  "nbformat": 4,
  "nbformat_minor": 0,
  "metadata": {
    "colab": {
      "provenance": []
    },
    "kernelspec": {
      "name": "python3",
      "display_name": "Python 3"
    },
    "language_info": {
      "name": "python"
    }
  },
  "cells": [
    {
      "cell_type": "code",
      "execution_count": null,
      "metadata": {
        "colab": {
          "base_uri": "https://localhost:8080/"
        },
        "id": "lAFIAdA_3R0p",
        "outputId": "01d5862d-4d55-44b3-b064-fe3f698cd181"
      },
      "outputs": [
        {
          "output_type": "stream",
          "name": "stdout",
          "text": [
            "88\n"
          ]
        }
      ],
      "source": [
        "#Question 1A\n",
        "marks = {'Andy':88, 'Amy':66, 'James':90, 'Jules':55, 'Arthur':77}\n",
        "\n",
        "def grade(name):\n",
        "  if name in marks.keys():\n",
        "    i = marks[name]\n",
        "    print(i)\n",
        "  if name not in marks.keys():\n",
        "    print('cannot find', name)\n",
        "\n",
        "grade('Andy')"
      ]
    },
    {
      "cell_type": "code",
      "source": [
        "#Question 1B\n",
        "def avg(marks):\n",
        "  return sum(marks.values()) / len(marks.values())\n",
        "\n",
        "average = avg(marks)\n",
        "\n",
        "print(average)"
      ],
      "metadata": {
        "colab": {
          "base_uri": "https://localhost:8080/"
        },
        "id": "Up2_P-FmseEj",
        "outputId": "67eb7c72-ce34-4af4-ef2c-2aea21df892b"
      },
      "execution_count": null,
      "outputs": [
        {
          "output_type": "stream",
          "name": "stdout",
          "text": [
            "75.2\n"
          ]
        }
      ]
    },
    {
      "cell_type": "code",
      "source": [
        "#Question 2\n",
        "def printout(num):\n",
        "  n = 0\n",
        "  while n < num:\n",
        "    print(n, n ** 2)\n",
        "    n += 1\n",
        "  else:\n",
        "    print(\"greater than\", num)\n",
        "\n",
        "printout(8)"
      ],
      "metadata": {
        "colab": {
          "base_uri": "https://localhost:8080/"
        },
        "id": "spdD3EH-7Htd",
        "outputId": "7c0056a5-0877-424d-faa3-424738a38419"
      },
      "execution_count": null,
      "outputs": [
        {
          "output_type": "stream",
          "name": "stdout",
          "text": [
            "0 0\n",
            "1 1\n",
            "2 4\n",
            "3 9\n",
            "4 16\n",
            "5 25\n",
            "6 36\n",
            "7 49\n",
            "greater than 8\n"
          ]
        }
      ]
    },
    {
      "cell_type": "code",
      "source": [
        "#Question 3\n",
        "def sumfunction(num):\n",
        "  n = 1\n",
        "  sum = 0\n",
        "  while n <= num:\n",
        "    sum = sum + n\n",
        "    n = n + 1\n",
        "  print(sum)\n",
        "\n",
        "sumfunction(8)"
      ],
      "metadata": {
        "colab": {
          "base_uri": "https://localhost:8080/"
        },
        "id": "jxwVCCGZ_sri",
        "outputId": "13410ba0-1cdf-45cd-e415-192695b39d66"
      },
      "execution_count": null,
      "outputs": [
        {
          "output_type": "stream",
          "name": "stdout",
          "text": [
            "36\n"
          ]
        }
      ]
    },
    {
      "cell_type": "code",
      "source": [
        "#Question 4\n",
        "def sumfunction(num):\n",
        "  n = 1\n",
        "  sum = 0\n",
        "  while n <= num:\n",
        "    sum = sum + n\n",
        "    print(sum)\n",
        "    n = n + 1\n",
        "\n",
        "sumfunction(8)"
      ],
      "metadata": {
        "colab": {
          "base_uri": "https://localhost:8080/"
        },
        "id": "wQ7GHD3sCcZg",
        "outputId": "541d59b3-558d-4153-c1c5-d7cacdd6e1bb"
      },
      "execution_count": null,
      "outputs": [
        {
          "output_type": "stream",
          "name": "stdout",
          "text": [
            "1\n",
            "3\n",
            "6\n",
            "10\n",
            "15\n",
            "21\n",
            "28\n",
            "36\n"
          ]
        }
      ]
    },
    {
      "cell_type": "code",
      "source": [
        "#Question 5\n",
        "import statistics\n",
        "v = range(1,100)\n",
        "\n",
        "print(statistics.mean(v))\n",
        "print(sum(v))\n",
        "print(statistics.stdev(v))"
      ],
      "metadata": {
        "colab": {
          "base_uri": "https://localhost:8080/"
        },
        "id": "nufrVwM0DTQl",
        "outputId": "27e5e56d-1c92-4b53-ea76-6b6448957b67"
      },
      "execution_count": null,
      "outputs": [
        {
          "output_type": "stream",
          "name": "stdout",
          "text": [
            "50\n",
            "4950\n",
            "28.722813232690143\n"
          ]
        }
      ]
    },
    {
      "cell_type": "code",
      "source": [
        "#Question 6\n",
        "def minimal(v1, v2, v3, v4):\n",
        "\n",
        "  min_value = v1\n",
        "  if v2 < min_value:\n",
        "    min_value = v2\n",
        "  if v3 < min_value:\n",
        "    min_value = v3\n",
        "  if v4 < min_value:\n",
        "    min_value = v4\n",
        "  return min_value\n",
        "\n",
        "minimal(14, 68, 72, 32)"
      ],
      "metadata": {
        "colab": {
          "base_uri": "https://localhost:8080/"
        },
        "id": "vU4iPiQcFay1",
        "outputId": "457e15fe-c5fc-48da-817f-2f5013d85ac8"
      },
      "execution_count": null,
      "outputs": [
        {
          "output_type": "execute_result",
          "data": {
            "text/plain": [
              "14"
            ]
          },
          "metadata": {},
          "execution_count": 39
        }
      ]
    },
    {
      "cell_type": "code",
      "source": [
        "#Question 7\n",
        "def concatenates(string1, string2, string3):\n",
        "  i = string1 + string2 + string3\n",
        "  return i\n",
        "\n",
        "concatenates('or', 'ang', 'e')\n"
      ],
      "metadata": {
        "colab": {
          "base_uri": "https://localhost:8080/",
          "height": 34
        },
        "id": "_e9Lomz-IikW",
        "outputId": "cd615013-9740-4550-edd5-7d127945ce4b"
      },
      "execution_count": null,
      "outputs": [
        {
          "output_type": "execute_result",
          "data": {
            "text/plain": [
              "'orange'"
            ],
            "application/vnd.google.colaboratory.intrinsic+json": {
              "type": "string"
            }
          },
          "metadata": {},
          "execution_count": 28
        }
      ]
    }
  ]
}